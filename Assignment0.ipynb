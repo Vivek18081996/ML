{
 "cells": [
  {
   "cell_type": "markdown",
   "id": "39bc8dc1-a124-41d6-8ed7-ab13ff7a24dd",
   "metadata": {},
   "source": [
    "What is Python?"
   ]
  },
  {
   "cell_type": "code",
   "execution_count": null,
   "id": "b84335bc-74ca-4578-bc02-f185f5a63181",
   "metadata": {},
   "outputs": [],
   "source": []
  }
 ],
 "metadata": {
  "kernelspec": {
   "display_name": "Python 3 (ipykernel)",
   "language": "python",
   "name": "python3"
  },
  "language_info": {
   "codemirror_mode": {
    "name": "ipython",
    "version": 3
   },
   "file_extension": ".py",
   "mimetype": "text/x-python",
   "name": "python",
   "nbconvert_exporter": "python",
   "pygments_lexer": "ipython3",
   "version": "3.12.4"
  }
 },
 "nbformat": 4,
 "nbformat_minor": 5
}
