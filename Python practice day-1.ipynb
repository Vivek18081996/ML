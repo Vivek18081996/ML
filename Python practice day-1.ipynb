{
 "cells": [
  {
   "cell_type": "markdown",
   "id": "07547b3c-0a57-4f2e-b1a4-9b482ad781d6",
   "metadata": {},
   "source": [
    "#Write a Python program to sum all the items in a list.,-8]))"
   ]
  },
  {
   "cell_type": "code",
   "execution_count": 14,
   "id": "2038c2d9-1854-4118-8417-8a4b026d1de5",
   "metadata": {},
   "outputs": [
    {
     "name": "stdout",
     "output_type": "stream",
     "text": [
      "The sum of all items in the list: 15\n"
     ]
    }
   ],
   "source": [
    "def sum_list(items):\n",
    "    total = 0\n",
    "    for item in items:\n",
    "        total += item\n",
    "    return total\n",
    "\n",
    "# Example usage\n",
    "my_list = [1, 2, 3, 4, 5]\n",
    "print(\"The sum of all items in the list:\", sum_list(my_list))\n"
   ]
  },
  {
   "cell_type": "code",
   "execution_count": 15,
   "id": "78a74a3f-88a4-4aa4-b75e-a1c45f2dad62",
   "metadata": {},
   "outputs": [
    {
     "name": "stdout",
     "output_type": "stream",
     "text": [
      "Count of strings with length >= 2 and same first and last character: 3\n"
     ]
    }
   ],
   "source": [
    "# Write a Python program to count the number of strings where the string length is 2 or\r",
    "#  more and the first and last characters are the same from a given list of strings\n",
    "\n",
    "def count_strings(lst):\n",
    "    count = 0\n",
    "    for string in lst:\n",
    "        if len(string) >= 2 and string[0] == string[-1]:\n",
    "            count += 1\n",
    "    return count\n",
    "\n",
    "# Example usage\n",
    "my_list = ['abc', 'aba', 'xyz', '1221', 'aa', 'b']\n",
    "print(\"Count of strings with length >= 2 and same first and last character:\", count_strings(my_list))\n"
   ]
  },
  {
   "cell_type": "code",
   "execution_count": 16,
   "id": "40a020a4-c9b6-4b21-a321-2f24b0fbd773",
   "metadata": {},
   "outputs": [
    {
     "name": "stdout",
     "output_type": "stream",
     "text": [
      "List after removing duplicates: [1, 2, 3, 4, 5]\n"
     ]
    }
   ],
   "source": [
    "#Write a Python program to remove duplicates from a list.\n",
    "\n",
    "def remove_duplicates(lst):\n",
    "    seen = set()\n",
    "    unique_list = []\n",
    "    for item in lst:\n",
    "        if item not in seen:\n",
    "            unique_list.append(item)\n",
    "            seen.add(item)\n",
    "    return unique_list\n",
    "\n",
    "# Example usage\n",
    "my_list = [1, 2, 2, 3, 4, 4, 5, 1]\n",
    "print(\"List after removing duplicates:\", remove_duplicates(my_list))\n"
   ]
  }
 ],
 "metadata": {
  "kernelspec": {
   "display_name": "Python 3 (ipykernel)",
   "language": "python",
   "name": "python3"
  },
  "language_info": {
   "codemirror_mode": {
    "name": "ipython",
    "version": 3
   },
   "file_extension": ".py",
   "mimetype": "text/x-python",
   "name": "python",
   "nbconvert_exporter": "python",
   "pygments_lexer": "ipython3",
   "version": "3.12.4"
  }
 },
 "nbformat": 4,
 "nbformat_minor": 5
}
